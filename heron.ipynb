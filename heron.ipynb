{
 "cells": [
  {
   "cell_type": "markdown",
   "metadata": {},
   "source": [
    "# Heron's method\n",
    "\n",
    "Finding the root is equivalent with finding the root of $f(x)=x^2-S$ The derivative of the function is $f(x)'=2x$.\n",
    "\n",
    "Let's use the Newton's method. \n",
    "\\begin{align}\n",
    "x_{n+1} &= x_n-\\frac{x_n^2-S}{2x_n}\\\\\n",
    "&= x_n-\\frac{x_n}{2}+\\frac{S}{2x_n}\n",
    "\\end{align}"
   ]
  }
 ],
 "metadata": {
  "language_info": {
   "name": "python"
  }
 },
 "nbformat": 4,
 "nbformat_minor": 2
}
