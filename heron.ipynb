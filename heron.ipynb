{
 "cells": [
  {
   "cell_type": "markdown",
   "metadata": {},
   "source": [
    "# Heron's method\n",
    "\n",
    "Finding the root is equivalent with finding the root of the following function.\n",
    "$$\n",
    "f(x)=x^2-S\n",
    "$$\n",
    "Here is the derivative of the function.\n",
    "$$\n",
    "f(x)'=2x\n",
    "$$\n",
    "Let's use the Newton's method. \n",
    "$$\n",
    "x_{n+1} = x_n-\\frac{x_n^2-S}{2x_n}\\\\\n",
    "= x_n-x_n/2+S/{2x_n}\n",
    "$$"
   ]
  }
 ],
 "metadata": {
  "language_info": {
   "name": "python"
  }
 },
 "nbformat": 4,
 "nbformat_minor": 2
}
