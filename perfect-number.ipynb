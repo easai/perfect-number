{
 "cells": [
  {
   "cell_type": "markdown",
   "metadata": {},
   "source": [
    "# Perfect Number\n",
    "\n",
    "Let us define the divisor function. The divisor function is the sum of all the divisors of a number to the kth power.\n",
    "$$\n",
    "\\sigma(n,k)=\\sum_{p|n}p^k\n",
    "$$\n"
   ]
  },
  {
   "cell_type": "code",
   "execution_count": 18,
   "metadata": {},
   "outputs": [
    {
     "name": "stdout",
     "output_type": "stream",
     "text": [
      "1\t1\t[1]\n",
      "2\t3\t[1, 2]\n",
      "3\t4\t[1, 3]\n",
      "4\t7\t[1, 2, 4]\n",
      "5\t6\t[1, 5]\n",
      "6\t12\t[1, 2, 3, 6]\n",
      "7\t8\t[1, 7]\n",
      "8\t15\t[1, 2, 4, 8]\n",
      "9\t13\t[1, 3, 9]\n",
      "10\t18\t[1, 2, 5, 10]\n"
     ]
    }
   ],
   "source": [
    "def sqrt(x):\n",
    "    y = 1\n",
    "    prev = 0\n",
    "    while 1 <= abs(y-prev):\n",
    "        prev = y\n",
    "        y = 1.0/2*(prev+x/prev)\n",
    "    while (y+1)*(y+1) < x:\n",
    "        y += 1\n",
    "    return int(y)\n",
    "\n",
    "def divisor(x):\n",
    "    n = sqrt(x)\n",
    "    lst = []\n",
    "    for i in range(1, n+1):\n",
    "        if x % i == 0:\n",
    "            lst.append(i)\n",
    "            if i != x/i:\n",
    "                lst.append(int(x/i))\n",
    "    lst.sort()\n",
    "    return lst\n",
    "\n",
    "def divisorFunction(d, k):\n",
    "    res = 0\n",
    "    for x in d:\n",
    "        res += x**k\n",
    "    return res\n",
    "\n",
    "\n",
    "for i in range(1,11):\n",
    "    lst=divisor(i)\n",
    "    df=divisorFunction(lst,1)\n",
    "    print(f\"{i}\\t{df}\\t{lst}\")"
   ]
  },
  {
   "cell_type": "markdown",
   "metadata": {},
   "source": [
    "A perfect number is a number whose sum of its divisors excluding itself equals itself.\n",
    "\n",
    "\\begin{align}\n",
    "\\sigma(n)-n&=n\\\\\n",
    "\\sigma(n)&=2n\n",
    "\\end{align}"
   ]
  },
  {
   "cell_type": "code",
   "execution_count": 19,
   "metadata": {},
   "outputs": [
    {
     "name": "stdout",
     "output_type": "stream",
     "text": [
      "6\t12\t[1, 2, 3, 6]\n",
      "28\t56\t[1, 2, 4, 7, 14, 28]\n",
      "496\t992\t[1, 2, 4, 8, 16, 31, 62, 124, 248, 496]\n",
      "8128\t16256\t[1, 2, 4, 8, 16, 32, 64, 127, 254, 508, 1016, 2032, 4064, 8128]\n"
     ]
    }
   ],
   "source": [
    "def is_perfect(x):\n",
    "    n = sqrt(x)\n",
    "    sum = 0\n",
    "    for i in range(1, n+1):\n",
    "        if x % i == 0:\n",
    "            sum += i\n",
    "            if i != x/i:\n",
    "                sum += x/i\n",
    "    return 2*x == sum\n",
    "\n",
    "for i in range(1,30000):\n",
    "    lst=divisor(i)\n",
    "    df=divisorFunction(lst,1)\n",
    "    if is_perfect(i):\n",
    "        print(f\"{i}\\t{df}\\t{lst}\")"
   ]
  },
  {
   "cell_type": "markdown",
   "metadata": {},
   "source": [
    "Mersenne numbers are closely related to perfect numbers. An even perfect number takes a form of:\n",
    "\n",
    "$$\n",
    "2^{p-1}*M_p\n",
    "$$\n",
    "\n",
    "where $M_p$ is a Mersenne number of order $p$."
   ]
  },
  {
   "cell_type": "code",
   "execution_count": 28,
   "metadata": {},
   "outputs": [
    {
     "name": "stdout",
     "output_type": "stream",
     "text": [
      "  1\t1\n",
      "* 2\t6\n",
      "* 3\t28\n",
      "  4\t120\n",
      "* 5\t496\n",
      "  6\t2016\n",
      "* 7\t8128\n",
      "  8\t32640\n",
      "  9\t130816\n"
     ]
    }
   ],
   "source": [
    "import sympy\n",
    "from sympy import symbols\n",
    "\n",
    "p=symbols(\"p\")\n",
    "mersenne=2**p-1\n",
    "even_perfect_number=2**(p-1)*mersenne\n",
    "\n",
    "for i in range(1,10):\n",
    "    n=even_perfect_number.subs([(p,i)])\n",
    "    flag=\"*\" if is_perfect(n) else \" \"\n",
    "    print(f\"{flag} {i}\\t{n}\")"
   ]
  }
 ],
 "metadata": {
  "kernelspec": {
   "display_name": "Python 3",
   "language": "python",
   "name": "python3"
  },
  "language_info": {
   "codemirror_mode": {
    "name": "ipython",
    "version": 3
   },
   "file_extension": ".py",
   "mimetype": "text/x-python",
   "name": "python",
   "nbconvert_exporter": "python",
   "pygments_lexer": "ipython3",
   "version": "3.11.5"
  }
 },
 "nbformat": 4,
 "nbformat_minor": 2
}
